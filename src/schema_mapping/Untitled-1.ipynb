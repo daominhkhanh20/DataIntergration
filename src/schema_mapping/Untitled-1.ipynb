{
 "cells": [
  {
   "cell_type": "code",
   "execution_count": 1,
   "metadata": {},
   "outputs": [],
   "source": [
    "import os\n",
    "import pandas as pd\n",
    "from valentine import valentine_match, valentine_metrics\n",
    "from valentine.algorithms import Coma,Cupid,DistributionBased,JaccardLevenMatcher,SimilarityFlooding"
   ]
  },
  {
   "cell_type": "code",
   "execution_count": 2,
   "metadata": {},
   "outputs": [
    {
     "name": "stderr",
     "output_type": "stream",
     "text": [
      "[nltk_data] Downloading package omw-1.4 to\n",
      "[nltk_data]     C:\\Users\\nhocs\\AppData\\Roaming\\nltk_data...\n",
      "[nltk_data]   Package omw-1.4 is already up-to-date!\n"
     ]
    },
    {
     "data": {
      "text/plain": [
       "True"
      ]
     },
     "execution_count": 2,
     "metadata": {},
     "output_type": "execute_result"
    }
   ],
   "source": [
    "import nltk\n",
    "nltk.download('omw-1.4')"
   ]
  },
  {
   "cell_type": "code",
   "execution_count": 5,
   "metadata": {},
   "outputs": [
    {
     "name": "stdout",
     "output_type": "stream",
     "text": [
      "{(('table_1', 'EID'), ('table_2', 'EID')): 1.0, (('table_1', 'Authors'), ('table_2', 'Authors')): 1.0, (('table_1', 'Cited by'), ('table_2', 'Cited by')): 1.0}\n",
      "{'precision': 1.0, 'recall': 1.0, 'f1_score': 1.0, 'precision_at_10_percent': 1.0, 'precision_at_30_percent': 1.0, 'precision_at_50_percent': 1.0, 'precision_at_70_percent': 1.0, 'precision_at_90_percent': 1.0, 'recall_at_sizeof_ground_truth': 1.0}\n"
     ]
    }
   ],
   "source": [
    "import pandas as pd\n",
    "import os\n",
    "df1 = pd.read_csv('authors1.csv')\n",
    "df2 = pd.read_csv('authors2.csv')\n",
    "\n",
    "# Instantiate matcher and run\n",
    "# matcher = Coma(strategy=\"COMA_OPT\")\n",
    "matcher = Cupid()\n",
    "# matcher = DistributionBased()\n",
    "matcher = JaccardLevenMatcher()\n",
    "# matcher = SimilarityFlooding()\n",
    "matches = valentine_match(df1, df2, matcher)\n",
    "\n",
    "print(matches)\n",
    "\n",
    "# If ground truth available valentine could calculate the metrics\n",
    "ground_truth = [('Cited by', 'Cited by'),\n",
    "                ('Authors', 'Authors'),\n",
    "                ('EID', 'EID')]\n",
    "\n",
    "metrics = valentine_metrics.all_metrics(matches, ground_truth)\n",
    "    \n",
    "print(metrics)"
   ]
  },
  {
   "cell_type": "code",
   "execution_count": null,
   "metadata": {},
   "outputs": [],
   "source": []
  }
 ],
 "metadata": {
  "interpreter": {
   "hash": "25a19fbe0a9132dfb9279d48d161753c6352f8f9478c2e74383d340069b907c3"
  },
  "kernelspec": {
   "display_name": "Python ('dtg')",
   "language": "python",
   "name": "python3"
  },
  "language_info": {
   "codemirror_mode": {
    "name": "ipython",
    "version": 3
   },
   "file_extension": ".py",
   "mimetype": "text/x-python",
   "name": "python",
   "nbconvert_exporter": "python",
   "pygments_lexer": "ipython3",
   "version": "3.9.7"
  },
  "orig_nbformat": 4
 },
 "nbformat": 4,
 "nbformat_minor": 2
}
